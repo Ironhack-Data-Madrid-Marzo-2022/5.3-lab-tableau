{
 "cells": [
  {
   "cell_type": "code",
   "execution_count": 1,
   "id": "90c721ba",
   "metadata": {},
   "outputs": [
    {
     "name": "stdout",
     "output_type": "stream",
     "text": [
      "Requirement already satisfied: mysql-connector-python in c:\\users\\alima\\anaconda3\\lib\\site-packages (8.0.28)\n",
      "Requirement already satisfied: protobuf>=3.0.0 in c:\\users\\alima\\anaconda3\\lib\\site-packages (from mysql-connector-python) (3.20.0)\n"
     ]
    }
   ],
   "source": [
    "\n",
    "\n",
    "!pip install mysql-connector-python\n",
    "\n",
    "\n",
    "import mysql.connector as conn\n",
    "\n"
   ]
  },
  {
   "cell_type": "code",
   "execution_count": 2,
   "id": "b51fc6c5",
   "metadata": {},
   "outputs": [],
   "source": [
    "\n",
    "\n",
    "crea_db=conn.connect(host='localhost', user='adri', passwd='password')\n",
    "\n",
    "cursor=crea_db.cursor()\n",
    "\n",
    "cursor.execute('drop database if exists tableau;')\n",
    "cursor.execute('create database tableau;')\n",
    "\n",
    "db=conn.connect(host='localhost', user='adri', passwd='password', database='tableau')\n",
    "\n",
    "cursor=db.cursor()\n",
    "    \n",
    "\n",
    "    \n"
   ]
  },
  {
   "cell_type": "code",
   "execution_count": 129,
   "id": "11473040",
   "metadata": {},
   "outputs": [],
   "source": [
    "n=5\n"
   ]
  },
  {
   "cell_type": "code",
   "execution_count": 130,
   "id": "2475da20",
   "metadata": {},
   "outputs": [
    {
     "data": {
      "text/plain": [
       "' '"
      ]
     },
     "execution_count": 130,
     "metadata": {},
     "output_type": "execute_result"
    }
   ],
   "source": [
    "i='*'\n",
    "i\n",
    "j=' '\n",
    "lst=''\n",
    "j"
   ]
  },
  {
   "cell_type": "code",
   "execution_count": 131,
   "id": "b67ead30",
   "metadata": {},
   "outputs": [],
   "source": [
    "for o in range(n):\n",
    "    if o<n/2: lst+=j+(2*o+1)*i+'\\n'\n",
    "    elif o>n/2: lst+=j+(n-o+1)*i+'\\n'"
   ]
  },
  {
   "cell_type": "code",
   "execution_count": 135,
   "id": "500b1025",
   "metadata": {},
   "outputs": [
    {
     "data": {
      "text/plain": [
       "'  *\\n ***\\n*****\\n ***\\n  *\\n'"
      ]
     },
     "execution_count": 135,
     "metadata": {},
     "output_type": "execute_result"
    }
   ],
   "source": [
    "lst.strip(' ')\n",
    "\"  *\\n ***\\n*****\\n ***\\n  *\\n\""
   ]
  },
  {
   "cell_type": "code",
   "execution_count": 134,
   "id": "30f0135b",
   "metadata": {},
   "outputs": [
    {
     "name": "stdout",
     "output_type": "stream",
     "text": [
      "*\n",
      "***\n",
      "*****\n",
      "**\n",
      "*\n"
     ]
    }
   ],
   "source": [
    "for o in range(0,n):\n",
    "    if o<n/2: print((2*o+1)*i)\n",
    "    elif o>n/2: print((n-o)*i)"
   ]
  },
  {
   "cell_type": "code",
   "execution_count": 116,
   "id": "e6a48554",
   "metadata": {},
   "outputs": [
    {
     "data": {
      "text/plain": [
       "1"
      ]
     },
     "execution_count": 116,
     "metadata": {},
     "output_type": "execute_result"
    }
   ],
   "source": [
    "n"
   ]
  },
  {
   "cell_type": "code",
   "execution_count": 111,
   "id": "ece364a7",
   "metadata": {},
   "outputs": [
    {
     "name": "stdout",
     "output_type": "stream",
     "text": [
      "['AAAAA', 'AAAAAAAA', 'AAAAAAAAAAAAAA']\n"
     ]
    }
   ],
   "source": [
    "def breakRNA(seqRNA, *breakPoint):\n",
    "    seqRNAList = []\n",
    "    noOfBreakPoints = len(breakPoint)\n",
    "    for breakPt in range(noOfBreakPoints):\n",
    "        for index in breakPoint:\n",
    "            seqRNAList.append(seqRNA[:index])\n",
    "            seqRNA = seqRNA[index:]\n",
    "        break\n",
    "    return seqRNAList\n",
    "\n",
    "test = breakRNA('AAAAAAAAAAAAAAAAAAAAAAAAAAATTTTTGGGGGGGGCCCCCCCCCC', 5, 8, 14)\n",
    "print (test)"
   ]
  },
  {
   "cell_type": "code",
   "execution_count": null,
   "id": "5f0750a8",
   "metadata": {},
   "outputs": [],
   "source": []
  },
  {
   "cell_type": "code",
   "execution_count": null,
   "id": "42c0d777",
   "metadata": {},
   "outputs": [],
   "source": []
  }
 ],
 "metadata": {
  "kernelspec": {
   "display_name": "Python 3 (ipykernel)",
   "language": "python",
   "name": "python3"
  },
  "language_info": {
   "codemirror_mode": {
    "name": "ipython",
    "version": 3
   },
   "file_extension": ".py",
   "mimetype": "text/x-python",
   "name": "python",
   "nbconvert_exporter": "python",
   "pygments_lexer": "ipython3",
   "version": "3.9.7"
  }
 },
 "nbformat": 4,
 "nbformat_minor": 5
}
