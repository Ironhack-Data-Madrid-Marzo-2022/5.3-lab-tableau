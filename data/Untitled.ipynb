{
 "cells": [
  {
   "cell_type": "code",
   "execution_count": 1,
   "id": "d93db03b",
   "metadata": {},
   "outputs": [
    {
     "name": "stdout",
     "output_type": "stream",
     "text": [
      "Requirement already satisfied: mysql-connector-python in c:\\users\\alima\\anaconda3\\lib\\site-packages (8.0.28)\n",
      "Requirement already satisfied: protobuf>=3.0.0 in c:\\users\\alima\\anaconda3\\lib\\site-packages (from mysql-connector-python) (3.20.0)\n"
     ]
    }
   ],
   "source": [
    "\n",
    "\n",
    "!pip install mysql-connector-python\n",
    "\n",
    "\n",
    "import mysql.connector as conn\n",
    "\n"
   ]
  },
  {
   "cell_type": "code",
   "execution_count": 2,
   "id": "a10741e1",
   "metadata": {},
   "outputs": [],
   "source": [
    "\n",
    "\n",
    "crea_db=conn.connect(host='localhost', user='adri', passwd='password')\n",
    "\n",
    "cursor=crea_db.cursor()\n",
    "\n",
    "cursor.execute('drop database if exists tableau;')\n",
    "cursor.execute('create database tableau;')\n",
    "\n",
    "db=conn.connect(host='localhost', user='adri', passwd='password', database='tableau')\n",
    "\n",
    "cursor=db.cursor()\n",
    "    \n",
    "\n",
    "    \n",
    "    \n",
    "\n"
   ]
  },
  {
   "cell_type": "code",
   "execution_count": null,
   "id": "4a0abcd8",
   "metadata": {},
   "outputs": [],
   "source": []
  }
 ],
 "metadata": {
  "kernelspec": {
   "display_name": "Python 3 (ipykernel)",
   "language": "python",
   "name": "python3"
  },
  "language_info": {
   "codemirror_mode": {
    "name": "ipython",
    "version": 3
   },
   "file_extension": ".py",
   "mimetype": "text/x-python",
   "name": "python",
   "nbconvert_exporter": "python",
   "pygments_lexer": "ipython3",
   "version": "3.9.7"
  }
 },
 "nbformat": 4,
 "nbformat_minor": 5
}
